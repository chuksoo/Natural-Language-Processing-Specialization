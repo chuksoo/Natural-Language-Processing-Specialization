{
 "cells": [
  {
   "cell_type": "markdown",
   "id": "3531c13c",
   "metadata": {},
   "source": [
    "# Lab 1: TensorFlow Tutorial and Some Useful Functions\n",
    "Welcome to the first lab in this course. Here you will see and try out some basics of TensorFlow and get familiar with some of the useful functions that you will use across the assignments. If you already know TensorFlow well, feel free to skip this notebook.\n",
    "\n",
    "For the demonstration purposes you will use the [IMDB reviews](https://ai.stanford.edu/~amaas/data/sentiment/) dataset, on which you will perform sentiment classification. The dataset consists of 50,000 movie reviews from the Internet Movie Database ([IMDB](https://www.imdb.com/)), but has been shrinked down to 6,000 reviews to save space and ensure faster performance of the notebook.\n",
    "\n",
    "A part of the code in this notebook is reused from the TensorFlow [official tutorial](https://www.tensorflow.org/tutorials/keras/text_classification)."
   ]
  },
  {
   "cell_type": "markdown",
   "id": "5f6473fc",
   "metadata": {},
   "source": [
    "## Table of Contents\n",
    "- [1 - Import the Libraries](#1)\n",
    "- [2 - Load the Data](#2)\n",
    "- [3 - Prepare the Data](#3)\n",
    "- [4 - Create a Sequential Model](#4)\n",
    "- [5 - Create a Model Using Functional API](#5)\n",
    "- [6 - Train the Model](#6)\n",
    "- [7 - Predict on Your Own Data](#7)\n"
   ]
  },
  {
   "cell_type": "markdown",
   "id": "bd2428bf",
   "metadata": {},
   "source": [
    "<a name=\"1\"></a>\n",
    "## 1. Import the libraries"
   ]
  },
  {
   "cell_type": "code",
   "execution_count": 1,
   "id": "4e6cc01b",
   "metadata": {},
   "outputs": [
    {
     "name": "stdout",
     "output_type": "stream",
     "text": [
      "Imports successful!\n"
     ]
    }
   ],
   "source": [
    "# To silence the TensorFlow warnings, you can use the following code before you import the TensorFlow library.\n",
    "import os\n",
    "os.environ['TF_CPP_MIN_LOG_LEVEL'] = '3'\n",
    "\n",
    "import numpy as np\n",
    "import tensorflow as tf\n",
    "from tensorflow.keras.preprocessing.text import Tokenizer\n",
    "from tensorflow.keras import layers\n",
    "from tensorflow.keras import losses\n",
    "import re\n",
    "import string\n",
    "import matplotlib.pyplot as plt\n",
    "\n",
    "print(\"Imports successful!\")"
   ]
  },
  {
   "cell_type": "markdown",
   "id": "9b151c32",
   "metadata": {},
   "source": [
    "Setting the random seed allows you to have control over the (pseudo)random numbers. When you are working with neural networks this is a good idea, so you can get reproducible results (when you run the calculation twice you will always get the same \"random\" numbers). It is especially important not to mess with the random seed in your assignments, as they are used for checking whether your values are set correctly."
   ]
  },
  {
   "cell_type": "code",
   "execution_count": 2,
   "id": "ba9a8116",
   "metadata": {},
   "outputs": [
    {
     "name": "stdout",
     "output_type": "stream",
     "text": [
      "Random seed set to 42\n"
     ]
    }
   ],
   "source": [
    "# Select your favourite number for the random seed\n",
    "seed = 42\n",
    "\n",
    "# Sets the global random seed for numpy.\n",
    "np.random.seed(seed)\n",
    "# Sets the global random seed for TensorFlow.\n",
    "tf.random.set_seed(seed)\n",
    "\n",
    "print(f\"Random seed set to {seed}\")"
   ]
  },
  {
   "cell_type": "markdown",
   "id": "1094a301",
   "metadata": {},
   "source": [
    "<a name=\"2\"></a>\n",
    "## 2. Load the data\n",
    "First you set the path to the directory where you store your data."
   ]
  },
  {
   "cell_type": "code",
   "execution_count": 3,
   "id": "17ce927b",
   "metadata": {},
   "outputs": [],
   "source": [
    "data_dir = './data/aclImdb'"
   ]
  },
  {
   "cell_type": "markdown",
   "id": "3729e427",
   "metadata": {},
   "source": [
    "Below, you will use the function [tf.keras.utils.text_dataset_from_directory](https://www.tensorflow.org/api_docs/python/tf/keras/utils/text_dataset_from_directory), that generates a [tf.data.Dataset](https://www.tensorflow.org/api_docs/python/tf/data/Dataset) from text files in a directory.\n",
    "TensorFlow allows you for very easy dataset creation, provided that you have data in the following folder substructure.\n",
    "```\n",
    "main_directory/\n",
    "... class_a/\n",
    "...... a_text_1.txt\n",
    "...... a_text_2.txt\n",
    "... class_b/\n",
    "...... b_text_1.txt\n",
    "...... b_text_2.txt\n",
    "```\n",
    "\n",
    "Calling `text_dataset_from_directory(...)` will return a `tf.data.Dataset` that yields batches of texts from the subdirectories `class_a` and `class_b`, together with labels 0 and 1 (0 corresponding to class_a and 1 corresponding to class_b).\n",
    "\n",
    "Only .txt files are supported at this time, but there are equivalent functions for different kinds of data, for example `image_dataset_from_directory` for images.\n",
    "\n",
    "In your case you have two main directories: `./data/aclImdb/train/` and `./data/aclImdb/test/`. Within both of these two directories you have data separated in two classes: `neg` and `pos`. So your actual folder structure looks like this:\n",
    "\n",
    "```\n",
    "./data/aclImdb/train/\n",
    "... neg/\n",
    "...... text_1.txt\n",
    "...... text_2.txt\n",
    "...... ...\n",
    "... pos/\n",
    "...... text_1.txt\n",
    "...... text_2.txt\n",
    "...... ...\n",
    "```\n",
    "And the same for the test folder, with many .txt files in each subfolder.\n",
    "\n",
    "You can explore the folders by clicking `File` and then `Open` in the menu above, or by clicking on the Jupyter symbol.\n",
    "\n",
    "In the cell below, you will load the data. Note the different parameters that you can use when loading the data. For example: originally you only have the data split only to training and test sets, but you can very easily split the datasets further, by using just a few parameters."
   ]
  },
  {
   "cell_type": "code",
   "execution_count": 4,
   "id": "657cfa06",
   "metadata": {},
   "outputs": [
    {
     "name": "stdout",
     "output_type": "stream",
     "text": [
      "Found 5000 files belonging to 2 classes.\n",
      "Using 4000 files for training.\n",
      "Found 5000 files belonging to 2 classes.\n",
      "Using 1000 files for validation.\n",
      "Found 5000 files belonging to 2 classes.\n"
     ]
    }
   ],
   "source": [
    "# Here you have two main directories: one for train and one for test data.\n",
    "# You load files from each to create training and test datasets.\n",
    "\n",
    "# Create the training set. Use 80% of the data and keep the remaining 20% for the validation.\n",
    "raw_training_set = tf.keras.utils.text_dataset_from_directory(\n",
    "    f'{data_dir}/train',\n",
    "    labels='inferred',\n",
    "    label_mode='int',\n",
    "    batch_size=32, \n",
    "    validation_split=0.2, \n",
    "    subset='training', \n",
    "    seed=seed\n",
    ")\n",
    "\n",
    "# Create the validation set. Use 20% of the data that was not used for training.\n",
    "raw_validation_set = tf.keras.utils.text_dataset_from_directory(\n",
    "    f'{data_dir}/train',\n",
    "    labels='inferred',\n",
    "    label_mode='int',\n",
    "    batch_size=32, \n",
    "    validation_split=0.2, \n",
    "    subset='validation', \n",
    "    seed=seed\n",
    ")\n",
    "\n",
    "# Create the test set.\n",
    "raw_test_set = tf.keras.utils.text_dataset_from_directory(\n",
    "    f'{data_dir}/test',\n",
    "    labels='inferred',\n",
    "    label_mode='int',\n",
    "    batch_size=32,\n",
    ")"
   ]
  },
  {
   "cell_type": "markdown",
   "id": "cb559ae2",
   "metadata": {},
   "source": [
    "Check that the labels 0 and 1 correctly correspond to the negative and positive examples respectively."
   ]
  },
  {
   "cell_type": "code",
   "execution_count": 5,
   "id": "b7ca738e",
   "metadata": {},
   "outputs": [
    {
     "name": "stdout",
     "output_type": "stream",
     "text": [
      "Label 0 corresponds to neg\n",
      "Label 1 corresponds to pos\n"
     ]
    }
   ],
   "source": [
    "print(f\"Label 0 corresponds to {raw_training_set.class_names[0]}\")\n",
    "print(f\"Label 1 corresponds to {raw_training_set.class_names[1]}\")"
   ]
  },
  {
   "cell_type": "markdown",
   "id": "f1be2fbd",
   "metadata": {},
   "source": [
    "If you want to look at a small subset of your dataset, you can use `.take()` method, by passing it the `count` parameter. The method returns a new dataset of the size at most `count`, where `count` is the number of batches. You can read more about `tf.data.Dataset` and the `take` method [here](https://www.tensorflow.org/api_docs/python/tf/data/Dataset)."
   ]
  },
  {
   "cell_type": "code",
   "execution_count": 6,
   "id": "67d7e8d5",
   "metadata": {},
   "outputs": [
    {
     "name": "stdout",
     "output_type": "stream",
     "text": [
      "Review:\n",
      " b'This is a reunion, a team, and a great episode of Justice. From hesitation to resolution, Clark has made a important leap from a troubled teenager who was afraid of a controlled destiny, to a Superman who, like Green Arrow, sets aside his emotions to his few loved ones, ready to save the whole planet. This is not just a thrilling story about teamwork, loyalty, and friendship; this is also about deciding what\\'s more important in life, a lesson for Clark. I do not want the series to end, but I hope the ensuing episodes will strictly stick to what Justice shows without any \"rewind\" pushes and put a good end here of Smallville---and a wonderful beginning of Superman.<br /><br />In this episode, however, we should have seen more contrast between Lex and the Team. Nine stars should give it enough credit.'\n",
      "Label: 1\n",
      "\n",
      "Review:\n",
      " b'\"Hey Babu Riba\" is a film about a young woman, Mariana (nicknamed \"Esther\" after a famous American movie star), and four young men, Glenn, Sacha, Kicha, and Pop, all perhaps 15-17 years old in 1953 Belgrade, Yugoslavia. The five are committed friends and crazy about jazz, blue jeans, or anything American it seems.<br /><br />The very close relationship of the teenagers is poignant, and ultimately a sacrifice is willingly made to try to help one of the group who has fallen on unexpected difficulties. In the wake of changing communist politics, they go their separate ways and reunite in 1985 (the year before the film was made).<br /><br />I enjoyed the film with some reservations. The subtitles for one thing were difficult. Especially in the beginning, there were a number of dialogues which had no subtitles at all. Perhaps the conversational pace required it, but I couldn\\'t always both read the text and absorb the scene, which caused me to not always understand which character was involved. I watched the movie (a video from our public library) with a friend, and neither of us really understood part of the story about acquiring streptomycin for a sick relative.<br /><br />This Yugoslavian coming of age film effectively conveyed the teenagers\\' sense of invulnerability, idealism, and strong and loyal bonds to each other. There is a main flashforward, and it was intriguing, keeping me guessing until the end as to who these characters were vis-a-vis the 1953 cast, and what had actually happened.<br /><br />I would rate it 7 out of 10, and would like to see other films by the director, Jovan Acin (1941-1991).'\n",
      "Label: 1\n",
      "\n",
      "Review:\n",
      " b\"No message. No symbolism. No dark undercurrents.Just a wonderful melange of music, nostalgia and good fun put to-gether by people who obviously had a great time doing it. It's a refreshing antidote to some of the pretentious garbage being ground out by the studios. Of course ANYTHING with the incomparable Judi Dench is worth watching. And Cleo Laine's brilliant jazz singing is a bonus. This lady is in the same league as the late Ella. This goes on my movie shelf to be pulled out again anytime I feel the need for a warm experience and a hearty good natured chuckle. Just a wonderful film!\"\n",
      "Label: 1\n",
      "\n"
     ]
    }
   ],
   "source": [
    "# Take one batch from the dataset and print out the first three datapoints in the batch\n",
    "for text_batch, label_batch in raw_training_set.take(1):\n",
    "    for i in range(3):\n",
    "        print(f\"Review:\\n {text_batch.numpy()[i]}\")\n",
    "        print(f\"Label: {label_batch.numpy()[i]}\\n\")"
   ]
  },
  {
   "cell_type": "markdown",
   "id": "e9447867",
   "metadata": {},
   "source": [
    "<a name=\"3\"></a>\n",
    "## 3. Prepare the Data\n",
    "\n",
    "Now that you have seen how the dataset looks like, you need to prepare it in the format that a neural network understands. For this, you will use the [tf.keras.layers.TextVectorization](https://www.tensorflow.org/api_docs/python/tf/keras/layers/TextVectorization) layer.\n",
    "\n",
    "This layer converts text to vectors that can then be fed to a neural network. A very useful feature is that you can pass it another function that performs custom standardization of text. This includes lowercasing the text, removing punctuation and/or HTML elements, web links or certain tags. This is very important, as every dataset requires different standardization, depending on its contents. After the standardization, the layer tokenizes the text (splits into words) and vectorizes it (converts from words to numbers) so that it can be fed to the neural network. The `output_sequence_length` is set to 250, which means that the layer will pad shorter sequences or truncate longer sequences, so they will al have the same length. This is done so that all the inout vectors are the same length and can be nicely put together into matrices."
   ]
  },
  {
   "cell_type": "code",
   "execution_count": 7,
   "id": "58dc49af",
   "metadata": {},
   "outputs": [],
   "source": [
    "# Set the maximum number of words\n",
    "max_features = 10000\n",
    "\n",
    "# Define the custom standardization function\n",
    "def custom_standardization(input_data):\n",
    "    # Convert all text to lowercase\n",
    "    lowercase = tf.strings.lower(input_data)\n",
    "    # Remove HTML tags\n",
    "    stripped_html = tf.strings.regex_replace(lowercase, '<br />', ' ')\n",
    "    # Remove punctuation\n",
    "    replaced = tf.strings.regex_replace(\n",
    "        stripped_html,\n",
    "        '[%s]' % re.escape(string.punctuation),\n",
    "        ''\n",
    "    )\n",
    "    return replaced\n",
    "\n",
    "# Create a layer that you can use to convert text to vectors\n",
    "vectorize_layer = layers.TextVectorization(\n",
    "    standardize=custom_standardization,\n",
    "    max_tokens=max_features,\n",
    "    output_mode='int',\n",
    "    output_sequence_length=250)"
   ]
  },
  {
   "cell_type": "markdown",
   "id": "e99ac485",
   "metadata": {},
   "source": [
    "Next, you call adapt to fit the state of the preprocessing layer to the dataset. This will cause the model to build a vocabulary (an index of strings to integers). If you want to access the vocabulary, you can call the `.get_vocabulary()` on the layer. "
   ]
  },
  {
   "cell_type": "code",
   "execution_count": 8,
   "id": "0e419bd0",
   "metadata": {},
   "outputs": [
    {
     "name": "stdout",
     "output_type": "stream",
     "text": [
      "Vocabulary size: 10000\n"
     ]
    }
   ],
   "source": [
    "# Build the vocabulary\n",
    "train_text = raw_training_set.map(lambda x, y: x)\n",
    "vectorize_layer.adapt(train_text)\n",
    "\n",
    "# Print out the vocabulary size\n",
    "print(f\"Vocabulary size: {len(vectorize_layer.get_vocabulary())}\")"
   ]
  },
  {
   "cell_type": "markdown",
   "id": "cf6642a5",
   "metadata": {},
   "source": [
    "Now you can define the final function that you will use to vectorize the text and see what it looks like.\n",
    "\n",
    "Note that you need to add the `.expand_dims()`. This adds another dimension to your data and is very commonly used when processing data to add an additional dimension to accomodate for the batches."
   ]
  },
  {
   "cell_type": "code",
   "execution_count": 9,
   "id": "ccadf578",
   "metadata": {},
   "outputs": [
    {
     "name": "stdout",
     "output_type": "stream",
     "text": [
      "Review:\n",
      "b\"Okay, so the plot is on shaky ground. Yeah, all right, so there are some randomly inserted song and/or dance sequences (for example: Adam's concert and Henri's stage act). And Leslie Caron can't really, um, you know... act.<br /><br />But somehow, 'An American In Paris' manages to come through it all as a polished, first-rate musical--largely on the basis of Gene Kelly's incredible dancing talent and choreography, and the truckloads of charm he seems to be importing into each scene with Caron. (He needs to, because she seems to have a... problem with emoting.) <br /><br />The most accomplished and technically awe-inspiring number in this musical is obviously the 16-minute ballet towards the end of the film. It's stunningly filmed, and Kelly and Caron dance beautifully. But my favourite number would have to be Kelly's character singing 'I Got Rhythm' with a bunch of French school-children, then breaking into an array of American dances. It just goes to prove how you don't need special effects when you've got some real *talent*.<br /><br />Not on the 'classics' level with 'Singin' In The Rain', but pretty high up there nonetheless. Worth the watch!\"\n",
      "\n",
      "Label: pos\n",
      "\n",
      "Vectorized review\n",
      "(<tf.Tensor: shape=(1, 250), dtype=int64, numpy=\n",
      "array([[ 947,   38,    2,  112,    7,   20, 6022, 1754, 1438,   31,  201,\n",
      "          38,   46,   24,   47, 6565, 8919,  603, 2928,  831,  858,   15,\n",
      "         476, 3241, 3010,    4,    1,  892,  478,    4, 3553, 5885,  175,\n",
      "          63, 6992,   21,  118,  478,   18,  813,   33,  329,    8, 1466,\n",
      "        1029,    6,  227,  143,    9,   31,   14,    3, 6590, 9055,    1,\n",
      "          20,    2, 3025,    5, 1996,    1, 1085,  914,  597,    4, 2733,\n",
      "           4,    2,    1,    5, 1411,   27,  190,    6,   26,    1,   77,\n",
      "         244,  130,   16, 5885,   27,  731,    6,   80,   53,  190,    6,\n",
      "          25,    3,  425,   16,    1,    2,   85, 3622,    4, 2603,    1,\n",
      "         593,    8,   10,  663,    7,  506,    2,    1, 4342, 1089,    2,\n",
      "         121,    5,    2,   19,   29, 5994,  886,    4, 1561,    4, 5885,\n",
      "         831, 1415,   18,   55, 1496,  593,   62,   25,    6,   26,    1,\n",
      "         105,  965,   11,  186, 4687,   16,    3,  862,    5, 1001,    1,\n",
      "          96, 2442,   77,   33, 7537,    5,  329, 4825,    9,   41,  264,\n",
      "           6, 2131,   86,   21,   87,  333,  290,  317,   51,  699,  186,\n",
      "          47,  144,  597,   23,   20,    2, 2008,  557,   16, 7714,    8,\n",
      "           2, 2477,   18,  179,  307,   57,   46, 2878,  268,    2,  106,\n",
      "           0,    0,    0,    0,    0,    0,    0,    0,    0,    0,    0,\n",
      "           0,    0,    0,    0,    0,    0,    0,    0,    0,    0,    0,\n",
      "           0,    0,    0,    0,    0,    0,    0,    0,    0,    0,    0,\n",
      "           0,    0,    0,    0,    0,    0,    0,    0,    0,    0,    0,\n",
      "           0,    0,    0,    0,    0,    0,    0,    0,    0,    0,    0,\n",
      "           0,    0,    0,    0,    0,    0,    0,    0]])>, <tf.Tensor: shape=(), dtype=int32, numpy=1>)\n"
     ]
    }
   ],
   "source": [
    "# Define the final function that you will use to vectorize the text.\n",
    "def vectorize_text(text, label):\n",
    "    text = tf.expand_dims(text, -1)\n",
    "    return vectorize_layer(text), label\n",
    "\n",
    "# Get one batch and select the first datapoint\n",
    "text_batch, label_batch = next(iter(raw_training_set))\n",
    "first_review, first_label = text_batch[0], label_batch[0]\n",
    "\n",
    "# Show the raw data\n",
    "print(f\"Review:\\n{first_review}\")\n",
    "print(f\"\\nLabel: {raw_training_set.class_names[first_label]}\")\n",
    "# Show the vectorized data\n",
    "print(f\"\\nVectorized review\\n{vectorize_text(first_review, first_label)}\")"
   ]
  },
  {
   "cell_type": "markdown",
   "id": "486386c9",
   "metadata": {},
   "source": [
    "Now you can apply the vectorization function to vectorize all three datasets."
   ]
  },
  {
   "cell_type": "code",
   "execution_count": 10,
   "id": "cb7441ab",
   "metadata": {},
   "outputs": [],
   "source": [
    "train_ds = raw_training_set.map(vectorize_text)\n",
    "val_ds = raw_validation_set.map(vectorize_text)\n",
    "test_ds = raw_test_set.map(vectorize_text)"
   ]
  },
  {
   "cell_type": "markdown",
   "id": "c6d45d60",
   "metadata": {},
   "source": [
    "### Configure the Dataset\n",
    "\n",
    "There are two important methods that you should use when loading data to make sure that I/O does not become blocking.\n",
    "\n",
    "`.cache()` keeps data in memory after it's loaded off disk. This will ensure the dataset does not become a bottleneck while training your model. If your dataset is too large to fit into memory, you can also use this method to create a performant on-disk cache, which is more efficient to read than many small files.\n",
    "\n",
    "`.prefetch()` overlaps data preprocessing and model execution while training.\n",
    "\n",
    "You can learn more about both methods, as well as how to cache data to disk in the [data performance guide](https://www.tensorflow.org/guide/data_performance).\n",
    "\n",
    "For very interested, you can read more about `tf.data` and `AUTOTUNE` in this [paper](https://vldb.org/pvldb/vol14/p2945-klimovic.pdf), but be aware that this is already very advanced information about how TensorFlow works."
   ]
  },
  {
   "cell_type": "code",
   "execution_count": 11,
   "id": "a19ae806",
   "metadata": {},
   "outputs": [],
   "source": [
    "AUTOTUNE = tf.data.AUTOTUNE\n",
    "\n",
    "train_ds = train_ds.cache().prefetch(buffer_size=AUTOTUNE)\n",
    "test_ds = test_ds.cache().prefetch(buffer_size=AUTOTUNE)"
   ]
  },
  {
   "cell_type": "markdown",
   "id": "5257b6e7",
   "metadata": {},
   "source": [
    "<a name=\"4\"></a>\n",
    "## 4. Create a Sequential Model\n",
    "\n",
    "A [Sequential model](https://www.tensorflow.org/guide/keras/sequential_model) is appropriate for a simple stack of layers where each layer has exactly one input tensor and one output tensor (layers follow each other in a sequence and there are no additional connections).\n",
    "\n",
    "Here you will use a Sequential model using only three layers:\n",
    " - An [Embedding](https://www.tensorflow.org/api_docs/python/tf/keras/layers/Embedding) layer. This layer takes the integer-encoded reviews and looks up an embedding vector for each word-index. These vectors are learned as the model trains. The vectors add a dimension to the output array. The resulting dimensions are: (batch, sequence, embedding).\n",
    " - A [GlobalAveragePooling1D](https://www.tensorflow.org/api_docs/python/tf/keras/layers/GlobalAveragePooling1D) layer returns a fixed-length output vector for each example by averaging over the sequence dimension. This allows the model to handle input of variable length, in the simplest way possible.\n",
    " - A [Dense](https://www.tensorflow.org/api_docs/python/tf/keras/layers/Dense) layer with a single output node."
   ]
  },
  {
   "cell_type": "code",
   "execution_count": 12,
   "id": "d8eff0fb",
   "metadata": {},
   "outputs": [
    {
     "name": "stdout",
     "output_type": "stream",
     "text": [
      "Model: \"sequential\"\n",
      "_________________________________________________________________\n",
      " Layer (type)                Output Shape              Param #   \n",
      "=================================================================\n",
      " embedding (Embedding)       (None, None, 16)          160000    \n",
      "                                                                 \n",
      " global_average_pooling1d (  (None, 16)                0         \n",
      " GlobalAveragePooling1D)                                         \n",
      "                                                                 \n",
      " dense (Dense)               (None, 1)                 17        \n",
      "                                                                 \n",
      "=================================================================\n",
      "Total params: 160017 (625.07 KB)\n",
      "Trainable params: 160017 (625.07 KB)\n",
      "Non-trainable params: 0 (0.00 Byte)\n",
      "_________________________________________________________________\n"
     ]
    }
   ],
   "source": [
    "embedding_dim = 16\n",
    "\n",
    "# Create the model by calling tf.keras.Sequential, where the layers are given in a list.\n",
    "model_sequential = tf.keras.Sequential([\n",
    "    layers.Embedding(max_features, embedding_dim),\n",
    "    layers.GlobalAveragePooling1D(),\n",
    "    layers.Dense(1, activation='sigmoid')\n",
    "])\n",
    "\n",
    "# Print out the summary of the model\n",
    "model_sequential.summary()"
   ]
  },
  {
   "cell_type": "markdown",
   "id": "71409b6c",
   "metadata": {},
   "source": [
    "Compile the model. Choose the loss function, the optimizer and any additional metrics you want to calculate. Since this is a binary classification problem you can use the [losses.BinaryCrossentropy](https://www.tensorflow.org/api_docs/python/tf/keras/losses/BinaryCrossentropy) loss function."
   ]
  },
  {
   "cell_type": "code",
   "execution_count": 13,
   "id": "43d84bf7",
   "metadata": {},
   "outputs": [],
   "source": [
    "model_sequential.compile(loss=losses.BinaryCrossentropy(),\n",
    "              optimizer='adam',\n",
    "              metrics=['accuracy'])"
   ]
  },
  {
   "cell_type": "markdown",
   "id": "b2ab6152",
   "metadata": {},
   "source": [
    "<a name=\"5\"></a>\n",
    "## 5. Create a Model Using Functional API\n",
    "\n",
    "You can use the [functional API](https://www.tensorflow.org/guide/keras/functional_api) when you want to create more complex models, but it works just as well for the simple models like the one above. The functional API can handle models with non-linear topology, shared layers, and even multiple inputs or outputs.\n",
    "\n",
    "The biggest difference at the first glance is that you need to explicitly state the input. Then you use the layers as functions and pass previous layers as parameters into the functions. In the end you build a model, where you pass it the input and the output of the neural network. All of the information from between them (hidden layers) is already hidden in the output layer (remember how each layer takes the previous layer in as a parameter)."
   ]
  },
  {
   "cell_type": "code",
   "execution_count": 14,
   "id": "00c9f456",
   "metadata": {},
   "outputs": [
    {
     "name": "stdout",
     "output_type": "stream",
     "text": [
      "Model: \"model\"\n",
      "_________________________________________________________________\n",
      " Layer (type)                Output Shape              Param #   \n",
      "=================================================================\n",
      " input_1 (InputLayer)        [(None, None)]            0         \n",
      "                                                                 \n",
      " embedding_1 (Embedding)     (None, None, 16)          160000    \n",
      "                                                                 \n",
      " global_average_pooling1d_1  (None, 16)                0         \n",
      "  (GlobalAveragePooling1D)                                       \n",
      "                                                                 \n",
      " dense_1 (Dense)             (None, 1)                 17        \n",
      "                                                                 \n",
      "=================================================================\n",
      "Total params: 160017 (625.07 KB)\n",
      "Trainable params: 160017 (625.07 KB)\n",
      "Non-trainable params: 0 (0.00 Byte)\n",
      "_________________________________________________________________\n"
     ]
    }
   ],
   "source": [
    "# Define the inputs\n",
    "inputs = tf.keras.Input(shape=(None,))\n",
    "\n",
    "# Define the first layer\n",
    "embedding = layers.Embedding(max_features, embedding_dim)\n",
    "# Call the first layer with inputs as the parameter\n",
    "x = embedding(inputs)\n",
    "\n",
    "# Define the second layer\n",
    "pooling = layers.GlobalAveragePooling1D()\n",
    "# Call the first layer with the output of the previous layer as the parameter\n",
    "x = pooling(x)\n",
    "\n",
    "# Define and call in the same line. (Same thing used two lines of code above\n",
    "# for other layers. You can use any option you prefer.)\n",
    "outputs = layers.Dense(1, activation='sigmoid')(x)\n",
    "#The two-line alternative to the one layer would be:\n",
    "# dense = layers.Dense(1, activation='sigmoid')\n",
    "# x = dense(x)\n",
    "\n",
    "\n",
    "# Create the model\n",
    "model_functional = tf.keras.Model(inputs=inputs, outputs=outputs)\n",
    "\n",
    "# Print out the summary of the model\n",
    "model_functional.summary()"
   ]
  },
  {
   "cell_type": "markdown",
   "id": "37d533f3",
   "metadata": {},
   "source": [
    "Compile the model: choose the loss, optimizer and any additional metrics you want to calculate. This is the same as for the sequential model."
   ]
  },
  {
   "cell_type": "code",
   "execution_count": 15,
   "id": "d68c2b9f",
   "metadata": {},
   "outputs": [],
   "source": [
    "model_functional.compile(loss=losses.BinaryCrossentropy(),\n",
    "              optimizer='adam',\n",
    "              metrics=['accuracy'])"
   ]
  },
  {
   "cell_type": "markdown",
   "id": "852503ff",
   "metadata": {},
   "source": [
    "<a name=\"6\"></a>\n",
    "## 6. Train the Model\n",
    "\n",
    "Above, you have defined two different models: one with a functional api and one sequential model. From now on, you will use only one of them. feel free to change which model you want to use in the next cell. The results should be the same, as the architectures of both models are the same."
   ]
  },
  {
   "cell_type": "code",
   "execution_count": 16,
   "id": "14b82ea5",
   "metadata": {},
   "outputs": [],
   "source": [
    "# Select which model you want to use and train. the results should be the same\n",
    "model = model_functional # model = model_sequential"
   ]
  },
  {
   "cell_type": "markdown",
   "id": "d4e95f98",
   "metadata": {},
   "source": [
    "Now you will train the model. You will pass it the training and validation dataset, so it can compute the accuracy metric on both during training."
   ]
  },
  {
   "cell_type": "code",
   "execution_count": 17,
   "id": "efd9fcc6",
   "metadata": {},
   "outputs": [
    {
     "name": "stdout",
     "output_type": "stream",
     "text": [
      "Epoch 1/25\n",
      "125/125 - 2s - loss: 0.6901 - accuracy: 0.5493 - val_loss: 0.6857 - val_accuracy: 0.7150 - 2s/epoch - 14ms/step\n",
      "Epoch 2/25\n",
      "125/125 - 1s - loss: 0.6776 - accuracy: 0.7245 - val_loss: 0.6711 - val_accuracy: 0.7310 - 600ms/epoch - 5ms/step\n",
      "Epoch 3/25\n",
      "125/125 - 1s - loss: 0.6567 - accuracy: 0.7530 - val_loss: 0.6488 - val_accuracy: 0.7430 - 588ms/epoch - 5ms/step\n",
      "Epoch 4/25\n",
      "125/125 - 1s - loss: 0.6278 - accuracy: 0.7772 - val_loss: 0.6214 - val_accuracy: 0.7720 - 557ms/epoch - 4ms/step\n",
      "Epoch 5/25\n",
      "125/125 - 1s - loss: 0.5942 - accuracy: 0.7950 - val_loss: 0.5923 - val_accuracy: 0.7870 - 604ms/epoch - 5ms/step\n",
      "Epoch 6/25\n",
      "125/125 - 1s - loss: 0.5589 - accuracy: 0.8150 - val_loss: 0.5638 - val_accuracy: 0.7970 - 573ms/epoch - 5ms/step\n",
      "Epoch 7/25\n",
      "125/125 - 1s - loss: 0.5238 - accuracy: 0.8360 - val_loss: 0.5370 - val_accuracy: 0.8010 - 678ms/epoch - 5ms/step\n",
      "Epoch 8/25\n",
      "125/125 - 1s - loss: 0.4900 - accuracy: 0.8543 - val_loss: 0.5124 - val_accuracy: 0.8060 - 600ms/epoch - 5ms/step\n",
      "Epoch 9/25\n",
      "125/125 - 1s - loss: 0.4580 - accuracy: 0.8712 - val_loss: 0.4900 - val_accuracy: 0.8210 - 593ms/epoch - 5ms/step\n",
      "Epoch 10/25\n",
      "125/125 - 1s - loss: 0.4283 - accuracy: 0.8860 - val_loss: 0.4699 - val_accuracy: 0.8260 - 642ms/epoch - 5ms/step\n",
      "Epoch 11/25\n",
      "125/125 - 1s - loss: 0.4010 - accuracy: 0.8935 - val_loss: 0.4521 - val_accuracy: 0.8380 - 617ms/epoch - 5ms/step\n",
      "Epoch 12/25\n",
      "125/125 - 1s - loss: 0.3759 - accuracy: 0.9022 - val_loss: 0.4363 - val_accuracy: 0.8450 - 615ms/epoch - 5ms/step\n",
      "Epoch 13/25\n",
      "125/125 - 1s - loss: 0.3531 - accuracy: 0.9078 - val_loss: 0.4224 - val_accuracy: 0.8470 - 595ms/epoch - 5ms/step\n",
      "Epoch 14/25\n",
      "125/125 - 1s - loss: 0.3323 - accuracy: 0.9162 - val_loss: 0.4103 - val_accuracy: 0.8500 - 609ms/epoch - 5ms/step\n",
      "Epoch 15/25\n",
      "125/125 - 1s - loss: 0.3132 - accuracy: 0.9237 - val_loss: 0.3996 - val_accuracy: 0.8530 - 651ms/epoch - 5ms/step\n",
      "Epoch 16/25\n",
      "125/125 - 1s - loss: 0.2957 - accuracy: 0.9287 - val_loss: 0.3902 - val_accuracy: 0.8560 - 627ms/epoch - 5ms/step\n",
      "Epoch 17/25\n",
      "125/125 - 1s - loss: 0.2795 - accuracy: 0.9337 - val_loss: 0.3819 - val_accuracy: 0.8580 - 601ms/epoch - 5ms/step\n",
      "Epoch 18/25\n",
      "125/125 - 1s - loss: 0.2646 - accuracy: 0.9385 - val_loss: 0.3746 - val_accuracy: 0.8570 - 570ms/epoch - 5ms/step\n",
      "Epoch 19/25\n",
      "125/125 - 1s - loss: 0.2507 - accuracy: 0.9440 - val_loss: 0.3682 - val_accuracy: 0.8600 - 606ms/epoch - 5ms/step\n",
      "Epoch 20/25\n",
      "125/125 - 1s - loss: 0.2377 - accuracy: 0.9480 - val_loss: 0.3625 - val_accuracy: 0.8610 - 612ms/epoch - 5ms/step\n",
      "Epoch 21/25\n",
      "125/125 - 1s - loss: 0.2255 - accuracy: 0.9513 - val_loss: 0.3575 - val_accuracy: 0.8630 - 589ms/epoch - 5ms/step\n",
      "Epoch 22/25\n",
      "125/125 - 1s - loss: 0.2141 - accuracy: 0.9548 - val_loss: 0.3531 - val_accuracy: 0.8640 - 596ms/epoch - 5ms/step\n",
      "Epoch 23/25\n",
      "125/125 - 1s - loss: 0.2033 - accuracy: 0.9595 - val_loss: 0.3492 - val_accuracy: 0.8630 - 591ms/epoch - 5ms/step\n",
      "Epoch 24/25\n",
      "125/125 - 1s - loss: 0.1931 - accuracy: 0.9625 - val_loss: 0.3458 - val_accuracy: 0.8610 - 684ms/epoch - 5ms/step\n",
      "Epoch 25/25\n",
      "125/125 - 1s - loss: 0.1835 - accuracy: 0.9647 - val_loss: 0.3428 - val_accuracy: 0.8620 - 568ms/epoch - 5ms/step\n"
     ]
    }
   ],
   "source": [
    "epochs = 25\n",
    "history = model.fit(\n",
    "    train_ds,\n",
    "    validation_data=val_ds,\n",
    "    epochs=epochs,\n",
    "    verbose=2\n",
    ")"
   ]
  },
  {
   "cell_type": "markdown",
   "id": "a37e70af",
   "metadata": {},
   "source": [
    "Now you can use `model.evaluate()` to evaluate the model on the test dataset."
   ]
  },
  {
   "cell_type": "code",
   "execution_count": 18,
   "id": "fbca5e66",
   "metadata": {},
   "outputs": [
    {
     "name": "stdout",
     "output_type": "stream",
     "text": [
      "157/157 [==============================] - 1s 3ms/step - loss: 0.3640 - accuracy: 0.8454\n",
      "Loss: 0.36396458745002747\n",
      "Accuracy: 0.8453999757766724\n"
     ]
    }
   ],
   "source": [
    "loss, accuracy = model.evaluate(test_ds)\n",
    "\n",
    "print(f\"Loss: {loss}\")\n",
    "print(f\"Accuracy: {accuracy}\")"
   ]
  },
  {
   "cell_type": "markdown",
   "id": "3c937469",
   "metadata": {},
   "source": [
    "When you trained the model, you saved the history in the history variable. Here you can access a dictionary that contains everything that happened during the training. In your case it saves the losses and the accuracy on both training and validation sets. You can plot it to gain some insights into how the training is progressing."
   ]
  },
  {
   "cell_type": "code",
   "execution_count": 19,
   "id": "2f1fc646",
   "metadata": {},
   "outputs": [
    {
     "data": {
      "image/png": "[encoded data removed]",
      "text/plain": [
       "<Figure size 640x480 with 1 Axes>"
      ]
     },
     "metadata": {},
     "output_type": "display_data"
    },
    {
     "data": {
      "image/png": "[encoded data removed]",
      "text/plain": [
       "<Figure size 640x480 with 1 Axes>"
      ]
     },
     "metadata": {},
     "output_type": "display_data"
    }
   ],
   "source": [
    "def plot_metrics(history, metric):\n",
    "    plt.plot(history.history[metric])\n",
    "    plt.plot(history.history[f'val_{metric}'])\n",
    "    plt.xlabel(\"Epochs\")\n",
    "    plt.ylabel(metric.title())\n",
    "    plt.legend([metric, f'val_{metric}'])\n",
    "    plt.show()\n",
    "    \n",
    "plot_metrics(history, \"accuracy\")\n",
    "plot_metrics(history, \"loss\")"
   ]
  },
  {
   "cell_type": "markdown",
   "id": "a944a73f",
   "metadata": {},
   "source": [
    "You can see that after 25 epochs, the training accuracy still goes up, but the validation accuracy already plateaus at around 86%. On the other hand both training and validation losses are still decreasing, which means that while the model does not learn to predict more cases accurately, it still gets more confident in its predictions. Here you used the simplest possible model: you have used embeddings, averaging layer and a dense layer with one output. You can try different architectures to see if the model improves. Perhaps you can add some dropout layers to reduce the chance of overfitting, or you can try a completely different architecture, like using convolutional layers or reccurent layers. You will learn a lot more about recurrent neural networks in the later weeks of this course."
   ]
  },
  {
   "cell_type": "markdown",
   "id": "fd21b463",
   "metadata": {},
   "source": [
    "<a name=\"7\"></a>\n",
    "## 7. Predict on Your Own Data\n",
    "\n",
    "Finally, you can use the model to predict on any new data you may have. You can use it to predict the sentiment of examples in the test dataset (which the model has not seen in the training process) or use some completely new examples.\n",
    "\n",
    "Here you will expand your model to be able to predict on raw strings (rather than on vectorized examples). Previously, you applied the TextVectorization layer to the dataset before feeding it to the model. To simplify deploying the model, you can include the TextVectorization layer inside your model and then predict on raw strings. To do so, you can create a new sequential model where you merge the vectorization layer with your trained model using the weights you just trained."
   ]
  },
  {
   "cell_type": "code",
   "execution_count": 20,
   "id": "7b784d92",
   "metadata": {},
   "outputs": [],
   "source": [
    "# Make a new sequential model using the vectorization layer and the model you just trained.\n",
    "export_model = tf.keras.Sequential([\n",
    "  vectorize_layer,\n",
    "  model]\n",
    ")\n",
    "\n",
    "# Compile the model\n",
    "export_model.compile(\n",
    "    loss=losses.BinaryCrossentropy(from_logits=False), optimizer=\"adam\", metrics=['accuracy']\n",
    ")"
   ]
  },
  {
   "cell_type": "markdown",
   "id": "116c57a1",
   "metadata": {},
   "source": [
    "Now you can use this model to predict on some of your own examples. You can do it simply by calling `model.predict()`"
   ]
  },
  {
   "cell_type": "code",
   "execution_count": 21,
   "id": "2a83c32f",
   "metadata": {},
   "outputs": [
    {
     "name": "stdout",
     "output_type": "stream",
     "text": [
      "Result: 0.624,   Label: 1,   Review: this movie was very, very good\n",
      "Result: 0.540,   Label: 1,   Review: quite ok\n",
      "Result: 0.426,   Label: 0,   Review: the movie was not bad\n",
      "Result: 0.472,   Label: 0,   Review: bad\n",
      "Result: 0.427,   Label: 0,   Review: negative disappointed bad scary\n",
      "Result: 0.455,   Label: 0,   Review: this movie was stupid\n"
     ]
    }
   ],
   "source": [
    "examples = ['this movie was very, very good', 'quite ok', 'the movie was not bad', 'bad', 'negative disappointed bad scary', 'this movie was stupid']\n",
    "\n",
    "results = export_model.predict(examples, verbose=False)\n",
    "\n",
    "for result, example in zip(results, examples):\n",
    "    print(f'Result: {result[0]:.3f},   Label: {int(np.round(result[0]))},   Review: {example}')"
   ]
  },
  {
   "cell_type": "markdown",
   "id": "2473ad55",
   "metadata": {},
   "source": [
    "Congratulations on finishing this lab. Do not worry if you did not understand everything, the videos and course material will cover these concepts in more depth. If you have a general understanding of the code in this lab, you are very well suited to start working on this weeks programming assignment. There you will implement some of the things shown in this lab from scratch and then create and fit a similar model like you did in this notebook."
   ]
  },
  {
   "cell_type": "code",
   "execution_count": null,
   "id": "762d264b",
   "metadata": {},
   "outputs": [],
   "source": []
  }
 ],
 "metadata": {
  "kernelspec": {
   "display_name": "Python 3 (ipykernel)",
   "language": "python",
   "name": "python3"
  },
  "language_info": {
   "codemirror_mode": {
    "name": "ipython",
    "version": 3
   },
   "file_extension": ".py",
   "mimetype": "text/x-python",
   "name": "python",
   "nbconvert_exporter": "python",
   "pygments_lexer": "ipython3",
   "version": "3.10.11"
  }
 },
 "nbformat": 4,
 "nbformat_minor": 5
}
